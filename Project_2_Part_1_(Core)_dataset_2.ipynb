{
  "nbformat": 4,
  "nbformat_minor": 0,
  "metadata": {
    "colab": {
      "provenance": [],
      "authorship_tag": "ABX9TyPd09hL/h6cJLXrDC53kJUz",
      "include_colab_link": true
    },
    "kernelspec": {
      "name": "python3",
      "display_name": "Python 3"
    },
    "language_info": {
      "name": "python"
    }
  },
  "cells": [
    {
      "cell_type": "markdown",
      "metadata": {
        "id": "view-in-github",
        "colab_type": "text"
      },
      "source": [
        "<a href=\"https://colab.research.google.com/github/ruelanthonyb/sales-predictions/blob/main/Project_2_Part_1_(Core)_dataset_2.ipynb\" target=\"_parent\"><img src=\"https://colab.research.google.com/assets/colab-badge.svg\" alt=\"Open In Colab\"/></a>"
      ]
    },
    {
      "cell_type": "markdown",
      "source": [
        "# Project 2 - Part 1 (Core)\n",
        "Your second project is going to have a lot more freedom than your first project. This is because we want you to have a project in your portfolio that interests you or relates to the industry you would like to work in.\n",
        "\n",
        "Your task for this week is to propose two possible datasets you would like to work with for Project 2.  \n",
        "\n",
        "You will choose your first choice data set, and a backup data set in case the first proposed data set is not approved.  \n",
        "\n",
        "This data can be from any source and can be on any topic with these limitations:\n",
        "\n",
        "the data must be available for use (it is your responsibility to ensure that the license states that you are able to use it.)\n",
        "the data must be appropriate for a professional environment\n",
        "the data must NOT contain personal information\n",
        "the data must NOT be a dataset used for any assignment, lecture, or task from the course\n",
        "Make sure you select a dataset that will be reasonable to work with in the amount of time we have left. Think about what questions you could reasonably answer with the dataset you select.\n",
        "\n",
        "You must propose two datasets that each have a supervised learning component. You may choose a regression or classification problem for each proposed data set.  \n",
        "\n",
        "**For this task:**\n",
        "\n",
        "Create a Colab notebook where you have uploaded and shown the .head() of each of your data sets.  For each of the proposed datasets, answer the following questions:\n",
        "\n",
        "**First choice: dataset 1**\n",
        "\n",
        "1) Source of data\n",
        "\n",
        "2) Brief description of data\n",
        "\n",
        "3) What is the target?\n",
        "\n",
        "4) Is this a classification or regression problem?\n",
        "\n",
        "5) How many features?\n",
        "\n",
        "6) How many rows of data.\n",
        "\n",
        "7) What, if any, challenges do your foresee in cleaning, exploring, or modeling with this dataset?\n",
        "\n",
        "**Second choice: dataset 2**\n",
        "\n",
        "1) Source of data\n",
        "\n",
        "2) Brief description of data\n",
        "\n",
        "3) What is the target?\n",
        "\n",
        "4) Is this a classification or regression problem?\n",
        "\n",
        "5) How many features?\n",
        "\n",
        "6) How many rows of data.\n",
        "\n",
        "7) What, if any, challenges do your foresee in cleaning, exploring, or modeling with this dataset?\n",
        "\n",
        "Add your colab notebook to your Github and submit the link below."
      ],
      "metadata": {
        "id": "LTkQPSccdMJu"
      }
    },
    {
      "cell_type": "code",
      "source": [
        "from google.colab import drive\n",
        "drive.mount('/content/drive')"
      ],
      "metadata": {
        "colab": {
          "base_uri": "https://localhost:8080/"
        },
        "id": "cBSGO2SrsEUG",
        "outputId": "8f0d8238-b471-40d1-9218-ffa37c264ed0"
      },
      "execution_count": 1,
      "outputs": [
        {
          "output_type": "stream",
          "name": "stdout",
          "text": [
            "Mounted at /content/drive\n"
          ]
        }
      ]
    },
    {
      "cell_type": "code",
      "source": [
        "import pandas as pd"
      ],
      "metadata": {
        "id": "VF3sz5Lis__3"
      },
      "execution_count": 2,
      "outputs": []
    },
    {
      "cell_type": "code",
      "source": [
        "# Dataset 2\n",
        "df2 = pd.read_csv('/content/drive/MyDrive/Coding Dojo PH/DS_Bootcamp/ML Fundamentals/Wk7/assignments/datasets/drug200.csv')\n",
        "print(\"Second Choice: Drug Classification Dataset\")\n",
        "print(df2)"
      ],
      "metadata": {
        "colab": {
          "base_uri": "https://localhost:8080/"
        },
        "id": "L2GUtMwIukuS",
        "outputId": "07fbcc4b-2d81-4cd0-f16b-0d00bcd65b84"
      },
      "execution_count": 4,
      "outputs": [
        {
          "output_type": "stream",
          "name": "stdout",
          "text": [
            "Second Choice: Drug Classification Dataset\n",
            "     Age Sex      BP Cholesterol  Na_to_K   Drug\n",
            "0     23   F    HIGH        HIGH   25.355  DrugY\n",
            "1     47   M     LOW        HIGH   13.093  drugC\n",
            "2     47   M     LOW        HIGH   10.114  drugC\n",
            "3     28   F  NORMAL        HIGH    7.798  drugX\n",
            "4     61   F     LOW        HIGH   18.043  DrugY\n",
            "..   ...  ..     ...         ...      ...    ...\n",
            "195   56   F     LOW        HIGH   11.567  drugC\n",
            "196   16   M     LOW        HIGH   12.006  drugC\n",
            "197   52   M  NORMAL        HIGH    9.894  drugX\n",
            "198   23   M  NORMAL      NORMAL   14.020  drugX\n",
            "199   40   F     LOW      NORMAL   11.349  drugX\n",
            "\n",
            "[200 rows x 6 columns]\n"
          ]
        }
      ]
    },
    {
      "cell_type": "code",
      "source": [
        "df2.info()"
      ],
      "metadata": {
        "colab": {
          "base_uri": "https://localhost:8080/"
        },
        "id": "0YHkT1avu6wZ",
        "outputId": "fd6b09c5-e9ce-454c-80f3-9f3514ce347c"
      },
      "execution_count": 5,
      "outputs": [
        {
          "output_type": "stream",
          "name": "stdout",
          "text": [
            "<class 'pandas.core.frame.DataFrame'>\n",
            "RangeIndex: 200 entries, 0 to 199\n",
            "Data columns (total 6 columns):\n",
            " #   Column       Non-Null Count  Dtype  \n",
            "---  ------       --------------  -----  \n",
            " 0   Age          200 non-null    int64  \n",
            " 1   Sex          200 non-null    object \n",
            " 2   BP           200 non-null    object \n",
            " 3   Cholesterol  200 non-null    object \n",
            " 4   Na_to_K      200 non-null    float64\n",
            " 5   Drug         200 non-null    object \n",
            "dtypes: float64(1), int64(1), object(4)\n",
            "memory usage: 9.5+ KB\n"
          ]
        }
      ]
    },
    {
      "cell_type": "markdown",
      "source": [
        "**1) Source of data:**\n",
        "\n",
        "This dataset is obtained from Kaggle.\n"
      ],
      "metadata": {
        "id": "_-OltrQP-zML"
      }
    },
    {
      "cell_type": "markdown",
      "source": [
        "**2) Brief description of data:**\n",
        "\n",
        "The dataset encompasses patient demographic information, blood pressure levels, cholesterol readings, sodium to potassium ratios in the blood, and the prescribed drug. It is designed for predicting the drug category based on patient characteristics."
      ],
      "metadata": {
        "id": "pfWLldz4-zO9"
      }
    },
    {
      "cell_type": "markdown",
      "source": [
        "**3) What is the target?**\n",
        "\n",
        "The target is the drug category, which is a variable indicating the prescribed medication."
      ],
      "metadata": {
        "id": "UqYYpRx--zRY"
      }
    },
    {
      "cell_type": "markdown",
      "source": [
        "**4) Is this a classification or regression problem?**\n",
        "\n",
        "It's a classification problem focused on categorizing patients into the correct drug class."
      ],
      "metadata": {
        "id": "xDQV47Qv-zT8"
      }
    },
    {
      "cell_type": "markdown",
      "source": [
        "**5) How many features?**\n",
        "\n",
        "There are 5 predictive features in the dataset."
      ],
      "metadata": {
        "id": "l9ahmzGi-zXC"
      }
    },
    {
      "cell_type": "markdown",
      "source": [
        "**6) How many rows of data?**\n",
        "\n",
        "The dataset contains 200 rows/entries of patient records."
      ],
      "metadata": {
        "id": "aAI7W2xj-zZy"
      }
    },
    {
      "cell_type": "markdown",
      "source": [
        "**7) What, if any, challenges do your foresee in cleaning, exploring, or modeling with this dataset?**\n",
        "\n",
        "Given the limited size of the dataset, the model might not generalize well, and overfitting could be a concern. Properly encoding categorical variables is crucial for model performance."
      ],
      "metadata": {
        "id": "Lx71b0MJ-zcZ"
      }
    }
  ]
}